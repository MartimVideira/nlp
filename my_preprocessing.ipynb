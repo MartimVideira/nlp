{
 "cells": [
  {
   "cell_type": "code",
   "execution_count": 1,
   "metadata": {},
   "outputs": [
    {
     "name": "stdout",
     "output_type": "stream",
     "text": [
      "Text Processing With NLTK\n"
     ]
    }
   ],
   "source": [
    "import nltk\n",
    "from nltk import regexp_tokenize, word_tokenize\n",
    "# nltk.download('punkt')\n",
    "print(\"Text Processing With NLTK\")"
   ]
  },
  {
   "cell_type": "code",
   "execution_count": 2,
   "metadata": {},
   "outputs": [],
   "source": [
    "corpus = {\n",
    "    \"simple_Text\": \"The brown fox jumps over the lazy dog\",\n",
    "    \"punctuation\": \"Hello. Who am I speaking with? Dear Lord!\",\n",
    "    \"contractions\": \"I'am am the one who knocks. Yes you're it, it's obvious\",\n",
    "    \"numbers\": \"12.30$ 77.5% 499.99€ 0,77%\",\n",
    "    \"compound_words\": \"guarda-chuva, nao-sei-mais\",\n",
    "    \"abreviaturas\": \"U.S.A.\"\n",
    "}\n",
    "corpus_tokens = {\n",
    "    'simple_Text': ['The', 'brown', 'fox', 'jumps', 'over', 'the', 'lazy', 'dog'],\n",
    "    'punctuation': ['Hello', '.', 'Who', 'am', 'I', 'speaking', 'with', '?', 'Dear', 'Lord', '!'],\n",
    "    'contractions': [\"I'am\", 'am', 'the', 'one', 'who', 'knocks', '.', 'Yes', \"you're\", 'it', ',', \"it's\", 'obvious'],\n",
    "    'numbers': ['12.30$', '77.5%', '499.99€', '0,77%'],\n",
    "    'compound_words': ['guarda-chuva', ',', 'nao-sei-mais'],\n",
    "    'abreviaturas': ['U.S.A.'],\n",
    "}"
   ]
  },
  {
   "cell_type": "code",
   "execution_count": 3,
   "metadata": {},
   "outputs": [],
   "source": [
    "def print_tests(tests):\n",
    "    passed = {name: test for name, test in tests.items() if test[\"passed\"]}\n",
    "    failed = {name: test for name, test in tests.items() if not test[\"passed\"]}\n",
    "\n",
    "    for key, test in passed.items():\n",
    "        print(f\"✅ {key}\")\n",
    "        print(f\"      Output: {test['result']}\")\n",
    "\n",
    "    for key, test in failed.items():\n",
    "        print(f\"🚨 {key}\")\n",
    "        print(f\"     Expected: {test['expected']}\")\n",
    "        print(f\"     Got     : {test['result']}\")\n",
    "\n",
    "\n",
    "def test_tokenize(tokenizer):\n",
    "    tests = {}\n",
    "    for test, text in corpus.items():\n",
    "        got = tokenizer(text)\n",
    "        expected = corpus_tokens[test]\n",
    "        tests[test] = {\n",
    "            \"result\": got,\n",
    "            \"expected\": expected,\n",
    "            \"passed\": got == expected\n",
    "        }\n",
    "    print_tests(tests)"
   ]
  },
  {
   "cell_type": "code",
   "execution_count": null,
   "metadata": {},
   "outputs": [],
   "source": []
  },
  {
   "cell_type": "code",
   "execution_count": 4,
   "metadata": {},
   "outputs": [
    {
     "name": "stdout",
     "output_type": "stream",
     "text": [
      "✅ simple_Text\n",
      "      Output: ['The', 'brown', 'fox', 'jumps', 'over', 'the', 'lazy', 'dog']\n",
      "✅ punctuation\n",
      "      Output: ['Hello', '.', 'Who', 'am', 'I', 'speaking', 'with', '?', 'Dear', 'Lord', '!']\n",
      "✅ contractions\n",
      "      Output: [\"I'am\", 'am', 'the', 'one', 'who', 'knocks', '.', 'Yes', \"you're\", 'it', ',', \"it's\", 'obvious']\n",
      "✅ numbers\n",
      "      Output: ['12.30$', '77.5%', '499.99€', '0,77%']\n",
      "✅ compound_words\n",
      "      Output: ['guarda-chuva', ',', 'nao-sei-mais']\n",
      "✅ abreviaturas\n",
      "      Output: ['U.S.A.']\n"
     ]
    }
   ],
   "source": [
    "pattern = r'''(?x)\n",
    "    (?:[a-zA-Z]\\.)+    # Abreviaturas\n",
    "    | (?:\\w+)'(?:am|re|s|t)\n",
    "    | (?:\\w+(?:-\\w+)+) # Compound words\n",
    "    | \\d+(?:[.,]\\d+)?[$£%€]? # Numbers and currencies\n",
    "    | \\w+              # Normal words\n",
    "    | [.,:-?!]         # Punctuation\n",
    "    '''\n",
    "\n",
    "test_tokenize(lambda text: regexp_tokenize(text, pattern))"
   ]
  },
  {
   "cell_type": "markdown",
   "metadata": {},
   "source": [
    "### Attention to Alternation\n",
    "\n",
    "When making an disjunction  `|` in a regular expression, remember that the order in which they are defined matter.\n",
    "\n",
    "So if you have *regexes* that are more **general** they should be further down."
   ]
  },
  {
   "cell_type": "code",
   "execution_count": 5,
   "metadata": {},
   "outputs": [
    {
     "name": "stdout",
     "output_type": "stream",
     "text": [
      "['That', 'will', 'be', '69', '.', '99']\n",
      "['That', 'will', 'be', '69.99']\n"
     ]
    }
   ],
   "source": [
    "pattern = r'''(?x)\n",
    "    \\w+\n",
    "    | [.,?!]\n",
    "    | \\d+(?:[.,]\\d+)?\n",
    "'''\n",
    "pattern_better = r'''(?x)\n",
    "    [.,?!]\n",
    "    |\\d+(?:[.,]\\d+)? \n",
    "    |\\w+   # Most general in the end\n",
    "'''\n",
    "will_cause_problem = \"That will be 69.99\"\n",
    "\n",
    "print(regexp_tokenize(will_cause_problem, pattern))\n",
    "print(regexp_tokenize(will_cause_problem, pattern_better))"
   ]
  },
  {
   "cell_type": "code",
   "execution_count": 6,
   "metadata": {},
   "outputs": [
    {
     "name": "stdout",
     "output_type": "stream",
     "text": [
      "✅ simple_Text\n",
      "      Output: ['The', 'brown', 'fox', 'jumps', 'over', 'the', 'lazy', 'dog']\n",
      "✅ punctuation\n",
      "      Output: ['Hello', '.', 'Who', 'am', 'I', 'speaking', 'with', '?', 'Dear', 'Lord', '!']\n",
      "🚨 contractions\n",
      "     Expected: [\"I'am\", 'am', 'the', 'one', 'who', 'knocks', '.', 'Yes', \"you're\", 'it', ',', \"it's\", 'obvious']\n",
      "     Got     : ['I', \"'\", 'am', 'am', 'the', 'one', 'who', 'knocks', '.', 'Yes', 'you', \"'\", 're', 'it', ',', 'it', \"'\", 's', 'obvious']\n",
      "🚨 numbers\n",
      "     Expected: ['12.30$', '77.5%', '499.99€', '0,77%']\n",
      "     Got     : ['12', '.', '30', '$', '77', '.', '5', '%', '499', '.', '99', '€', '0', ',', '77', '%']\n",
      "🚨 compound_words\n",
      "     Expected: ['guarda-chuva', ',', 'nao-sei-mais']\n",
      "     Got     : ['guarda', '-', 'chuva', ',', 'nao', '-', 'sei', '-', 'mais']\n",
      "🚨 abreviaturas\n",
      "     Expected: ['U.S.A.']\n",
      "     Got     : ['U', '.', 'S', '.', 'A', '.']\n"
     ]
    }
   ],
   "source": [
    "from nltk.tokenize import wordpunct_tokenize\n",
    "\n",
    "test_tokenize(wordpunct_tokenize)"
   ]
  },
  {
   "cell_type": "markdown",
   "metadata": {},
   "source": [
    "### Punkt Sentence Tokenizer\n",
    "\n",
    "This tokenizer divides a text into a list of sentences by using an **unsupervised algorithm** to build a model for *abbreviation words*, *collocations*, and *words that start sentences*.\n",
    "\n",
    "It must be trained on a large collection of plaintext in the target language before it can be used.\n",
    "\n",
    "The NLTK data package includes a pre-trained Punkt tokenizer for English.\n",
    "\n",
    "`punkt` is a **sentence segementation** tokenizer"
   ]
  },
  {
   "cell_type": "code",
   "execution_count": 7,
   "metadata": {},
   "outputs": [],
   "source": [
    "import nltk.data\n",
    "\n",
    "punkt = nltk.data.load('tokenizers/punkt/english.pickle')"
   ]
  },
  {
   "cell_type": "code",
   "execution_count": 8,
   "metadata": {},
   "outputs": [],
   "source": [
    "lines = '''\n",
    "Punkt knows that the periods in Mr. Smith and Johann S. Bach\n",
    "do not mark sentence boundaries.  and sometimes sentences\n",
    "can start with non-capitalized words.  (How does it deal with \n",
    "this parenthesis?)  \"It should be part of the\n",
    "previous sentence.\" \"(And the same with this one.)\" ('And this one!')\n",
    "\"('(And (this)) '?)\" [(and this. )]\n",
    "'''\n",
    "\n",
    "def test_sent_tokenizer(sent_tokenizer):\n",
    "    print(\"\\n------\\n\".join(sent_tokenizer(lines)))"
   ]
  },
  {
   "cell_type": "code",
   "execution_count": 9,
   "metadata": {},
   "outputs": [
    {
     "name": "stdout",
     "output_type": "stream",
     "text": [
      "\n",
      "Punkt knows that the periods in Mr. Smith and Johann S. Bach\n",
      "do not mark sentence boundaries.\n",
      "------\n",
      "and sometimes sentences\n",
      "can start with non-capitalized words.\n",
      "------\n",
      "(How does it deal with \n",
      "this parenthesis?)\n",
      "------\n",
      "\"It should be part of the\n",
      "previous sentence.\"\n",
      "------\n",
      "\"(And the same with this one.)\"\n",
      "------\n",
      "('And this one!')\n",
      "------\n",
      "\"('(And (this)) '?)\"\n",
      "------\n",
      "[(and this. )]\n"
     ]
    }
   ],
   "source": [
    "test_sent_tokenizer(lambda lines : punkt.tokenize(lines))"
   ]
  },
  {
   "cell_type": "code",
   "execution_count": 10,
   "metadata": {},
   "outputs": [
    {
     "name": "stdout",
     "output_type": "stream",
     "text": [
      "\n",
      "Punkt knows that the periods in Mr. Smith and Johann S. Bach\n",
      "do not mark sentence boundaries.\n",
      "------\n",
      "and sometimes sentences\n",
      "can start with non-capitalized words.\n",
      "------\n",
      "(How does it deal with \n",
      "this parenthesis?)\n",
      "------\n",
      "\"It should be part of the\n",
      "previous sentence.\"\n",
      "------\n",
      "\"(And the same with this one.)\"\n",
      "------\n",
      "('And this one!')\n",
      "------\n",
      "\"('(And (this)) '?)\"\n",
      "------\n",
      "[(and this. )]\n"
     ]
    }
   ],
   "source": [
    "from nltk.tokenize import sent_tokenize\n",
    "test_sent_tokenizer(sent_tokenize)"
   ]
  },
  {
   "cell_type": "markdown",
   "metadata": {},
   "source": [
    "## Sentence Segmentation on Long Texts\n"
   ]
  },
  {
   "cell_type": "code",
   "execution_count": 11,
   "metadata": {},
   "outputs": [],
   "source": [
    "from urllib import request\n",
    "\n",
    "url = \"http://www.gutenberg.org/files/2554/2554-0.txt\"\n",
    "response = request.urlopen(url)\n",
    "raw = response.read().decode('utf8')"
   ]
  },
  {
   "cell_type": "code",
   "execution_count": 12,
   "metadata": {},
   "outputs": [
    {
     "name": "stdout",
     "output_type": "stream",
     "text": [
      "Characters 1176812\n",
      "Lines using python string.plit('\\n'): 22444\n"
     ]
    }
   ],
   "source": [
    "print(f\"Characters {len(raw)}\")\n",
    "print(f\"Lines using python string.plit('\\\\n'):\",len(raw.split('\\n')))"
   ]
  },
  {
   "cell_type": "code",
   "execution_count": 13,
   "metadata": {},
   "outputs": [
    {
     "name": "stdout",
     "output_type": "stream",
     "text": [
      "Lines: 12060\n",
      "Tokens:  257058\n",
      "Vocabulary 11516\n"
     ]
    }
   ],
   "source": [
    "lines = punkt.tokenize(raw)\n",
    "tokens_by_lines = [word_tokenize(line) for line in lines]\n",
    "vocabulary = {}\n",
    "for line in tokens_by_lines:\n",
    "    for token in line:\n",
    "        vocabulary[token] = vocabulary.get(token, 0) + 1\n",
    "\n",
    "print(\"Lines:\", len(lines))\n",
    "print(\"Tokens: \", sum([len(l) for l in tokens_by_lines]))\n",
    "print(\"Vocabulary\", len(vocabulary.keys()))"
   ]
  },
  {
   "cell_type": "code",
   "execution_count": 14,
   "metadata": {},
   "outputs": [
    {
     "name": "stdout",
     "output_type": "stream",
     "text": [
      "You\n"
     ]
    }
   ],
   "source": [
    "# First Token in the second sentence\n",
    "print(tokens_by_lines[1][0])"
   ]
  },
  {
   "cell_type": "code",
   "execution_count": 15,
   "metadata": {},
   "outputs": [
    {
     "name": "stdout",
     "output_type": "stream",
     "text": [
      "[(',', 16177), ('.', 8908), ('the', 7447), ('and', 6279), ('to', 5280), ('a', 4469), ('I', 4397), ('’', 4039), ('“', 3980), ('”', 3929)]\n"
     ]
    }
   ],
   "source": [
    "# Get N most frequent tokens\n",
    "sorted_by_frequence = sorted(vocabulary.items(),key=lambda a : a[1],reverse=True)\n",
    "print(sorted_by_frequence[:10])"
   ]
  },
  {
   "cell_type": "markdown",
   "metadata": {},
   "source": [
    "### Using the counter Container from the builtin [collections](https://docs.python.org/3/library/collections.html#collections.Counter)\n",
    "\n",
    "It is very handy and as we'll see it will spare us this previous work"
   ]
  },
  {
   "cell_type": "code",
   "execution_count": 16,
   "metadata": {},
   "outputs": [],
   "source": [
    "from collections import Counter\n",
    "\n",
    "frequency = Counter((token for line in tokens_by_lines for token in line))"
   ]
  },
  {
   "cell_type": "code",
   "execution_count": 17,
   "metadata": {},
   "outputs": [
    {
     "data": {
      "text/plain": [
       "[(',', 16177),\n",
       " ('.', 8908),\n",
       " ('the', 7447),\n",
       " ('and', 6279),\n",
       " ('to', 5280),\n",
       " ('a', 4469),\n",
       " ('I', 4397),\n",
       " ('’', 4039),\n",
       " ('“', 3980),\n",
       " ('”', 3929)]"
      ]
     },
     "execution_count": 17,
     "metadata": {},
     "output_type": "execute_result"
    }
   ],
   "source": [
    "frequency.most_common(10)"
   ]
  },
  {
   "cell_type": "code",
   "execution_count": 18,
   "metadata": {},
   "outputs": [
    {
     "data": {
      "text/plain": [
       "257058"
      ]
     },
     "execution_count": 18,
     "metadata": {},
     "output_type": "execute_result"
    }
   ],
   "source": [
    "frequency.total()"
   ]
  },
  {
   "cell_type": "code",
   "execution_count": 19,
   "metadata": {},
   "outputs": [
    {
     "data": {
      "text/plain": [
       "11516"
      ]
     },
     "execution_count": 19,
     "metadata": {},
     "output_type": "execute_result"
    }
   ],
   "source": [
    "len(set(frequency))"
   ]
  },
  {
   "cell_type": "markdown",
   "metadata": {},
   "source": [
    "## Multi Word Expressions\n",
    "\n",
    "As we know, this is a problem similar to **named entity recognition**, we can give a tokenizer a **dictionary of multi-word-expressions** "
   ]
  },
  {
   "cell_type": "code",
   "execution_count": 20,
   "metadata": {},
   "outputs": [
    {
     "name": "stdout",
     "output_type": "stream",
     "text": [
      "['Good', 'muffins', 'cost', '$', '3.88', 'in', 'New_York', '.']\n"
     ]
    }
   ],
   "source": [
    "from nltk import MWETokenizer\n",
    "\n",
    "text = \"Good muffins cost $3.88\\nin New York.\"\n",
    "\n",
    "\n",
    "multi_word_expressions = [('New','York'),('Real','Madrid')]\n",
    "\n",
    "mwe = MWETokenizer(multi_word_expressions,separator=\"_\")\n",
    "\n",
    "tokens = word_tokenize(text)\n",
    "mwes_tokens = mwe.tokenize(tokens)\n",
    "\n",
    "# It now recognizes the Multi Word Expressions in the \"knowledge base\"\n",
    "print(mwes_tokens)\n"
   ]
  },
  {
   "cell_type": "markdown",
   "metadata": {},
   "source": [
    "## Lemmatization and Stemming\n",
    "\n",
    "Both *lemmatization* and *stemization* are techinques of normalizing and reducing the corpus.\n",
    "\n",
    "However *lemmatization* is a more expensive process that aims to find the **root** of each word.\n",
    "\n",
    "While *stemming* applies a set of transformations that aims to cut off word suffixes.\n",
    "\n",
    "### Stemming\n",
    "\n",
    "`nltk` includes the **Porter stemmer** that we've talked about"
   ]
  },
  {
   "cell_type": "code",
   "execution_count": 21,
   "metadata": {},
   "outputs": [],
   "source": [
    "from nltk import PorterStemmer\n",
    "\n",
    "porter_stemmer = PorterStemmer()\n",
    "\n",
    "# The piece of text from the slides\n",
    "sentence = '''The European Commission has funded a numerical study to analyze the purchase of a pipe organ with no noise\n",
    "for Europe's organization. Numerous donations have followed the analysis after a noisy debate.'''"
   ]
  },
  {
   "cell_type": "code",
   "execution_count": 22,
   "metadata": {},
   "outputs": [
    {
     "name": "stdout",
     "output_type": "stream",
     "text": [
      "Number of Tokens: 35\n",
      "Vocabulary: 31\n"
     ]
    }
   ],
   "source": [
    "tokens = word_tokenize(sentence)\n",
    "def show_statistics(tokens):\n",
    "    cnt = Counter(tokens)\n",
    "    print(f\"Number of Tokens:\",cnt.total())\n",
    "    print(f\"Vocabulary:\",len(set(cnt)))\n",
    "show_statistics(tokens)"
   ]
  },
  {
   "cell_type": "code",
   "execution_count": 23,
   "metadata": {},
   "outputs": [
    {
     "name": "stdout",
     "output_type": "stream",
     "text": [
      "Number of Tokens: 35\n",
      "Vocabulary: 28\n"
     ]
    }
   ],
   "source": [
    "# Now applying the Porter Stemmer to Normalize the text\n",
    "\n",
    "stemmed_tokens = [porter_stemmer.stem(token) for token in tokens]\n",
    "cnt = Counter(stemmed_tokens)\n",
    "show_statistics(stemmed_tokens)"
   ]
  },
  {
   "cell_type": "markdown",
   "metadata": {},
   "source": [
    "As we can see the dimension of the vocabulary was reduced, but lets checkout what happened to the sentence:"
   ]
  },
  {
   "cell_type": "code",
   "execution_count": 24,
   "metadata": {},
   "outputs": [
    {
     "name": "stdout",
     "output_type": "stream",
     "text": [
      "Original:  The European Commission has funded a numerical study to analyze the purchase of a pipe organ with no noise for Europe 's organization . Numerous donations have followed the analysis after a noisy debate .\n",
      "Stemmed:  the european commiss ha fund a numer studi to analyz the purchas of a pipe organ with no nois for europ 's organ . numer donat have follow the analysi after a noisi debat .\n"
     ]
    }
   ],
   "source": [
    "print(\"Original: \",\" \".join(tokens))\n",
    "print(\"Stemmed: \",\" \".join(stemmed_tokens))"
   ]
  },
  {
   "cell_type": "code",
   "execution_count": 25,
   "metadata": {},
   "outputs": [
    {
     "data": {
      "text/plain": [
       "[('the', {'The', 'the'}),\n",
       " ('numer', {'Numerous', 'numerical'}),\n",
       " ('organ', {'organ', 'organization'}),\n",
       " ('european', {'European'}),\n",
       " ('commiss', {'Commission'})]"
      ]
     },
     "execution_count": 25,
     "metadata": {},
     "output_type": "execute_result"
    }
   ],
   "source": [
    "mapping = {}\n",
    "for token in tokens:\n",
    "    stemmed = porter_stemmer.stem(token)\n",
    "    mapping[stemmed] = mapping.get(stemmed,set())\n",
    "    mapping[stemmed].add(token)\n",
    "\n",
    "sorted(mapping.items(),key=lambda a: len(a[1]),reverse=True)[:5]"
   ]
  },
  {
   "cell_type": "markdown",
   "metadata": {},
   "source": [
    "As we can see some words suffered from **overgeneralization**, like *organ* and *organization*\n",
    "\n",
    "And other words suffered from **undergeneralization** like **european** and **europe** that dind't got the same stem.\n",
    "\n",
    "### Lemmatization\n",
    "\n",
    "`nltk` includes ways of finding the root of words"
   ]
  },
  {
   "cell_type": "code",
   "execution_count": 26,
   "metadata": {},
   "outputs": [
    {
     "name": "stderr",
     "output_type": "stream",
     "text": [
      "[nltk_data] Downloading package wordnet to /home/martim/nltk_data...\n",
      "[nltk_data]   Package wordnet is already up-to-date!\n"
     ]
    }
   ],
   "source": [
    "# WordNet lemmatizer\n",
    "from nltk.stem import WordNetLemmatizer \n",
    "nltk.download('wordnet')\n",
    "# Init the Wordnet Lemmatizer\n",
    "lemmatizer = WordNetLemmatizer()\n",
    "\n",
    "sentence = \"Men and women love to study artificial intelligence while studying data science. Don't you? My feet and teeth are clean!\""
   ]
  },
  {
   "cell_type": "code",
   "execution_count": 27,
   "metadata": {},
   "outputs": [
    {
     "name": "stdout",
     "output_type": "stream",
     "text": [
      "Number of Tokens: 24\n",
      "Vocabulary: 23\n"
     ]
    }
   ],
   "source": [
    "tokens = word_tokenize(sentence)\n",
    "show_statistics(tokens)"
   ]
  },
  {
   "cell_type": "code",
   "execution_count": 28,
   "metadata": {},
   "outputs": [
    {
     "name": "stdout",
     "output_type": "stream",
     "text": [
      "['Men', 'and', 'woman', 'love', 'to', 'study', 'artificial', 'intelligence', 'while', 'studying', 'data', 'science', '.', 'Do', \"n't\", 'you', '?', 'My', 'foot', 'and', 'teeth', 'are', 'clean', '!']\n",
      "Number of Tokens: 24\n",
      "Vocabulary: 23\n",
      "Number of Tokens: 24\n",
      "Vocabulary: 22\n"
     ]
    },
    {
     "name": "stderr",
     "output_type": "stream",
     "text": [
      "/tmp/ipykernel_5658/1643905761.py:9: DeprecationWarning: \n",
      "Pyarrow will become a required dependency of pandas in the next major release of pandas (pandas 3.0),\n",
      "(to allow more performant data types, such as the Arrow string type, and better interoperability with other libraries)\n",
      "but was not found to be installed on your system.\n",
      "If this would cause problems for you,\n",
      "please provide us feedback at https://github.com/pandas-dev/pandas/issues/54466\n",
      "        \n",
      "  import pandas as pd\n"
     ]
    },
    {
     "data": {
      "text/html": [
       "<div>\n",
       "<style scoped>\n",
       "    .dataframe tbody tr th:only-of-type {\n",
       "        vertical-align: middle;\n",
       "    }\n",
       "\n",
       "    .dataframe tbody tr th {\n",
       "        vertical-align: top;\n",
       "    }\n",
       "\n",
       "    .dataframe thead th {\n",
       "        text-align: right;\n",
       "    }\n",
       "</style>\n",
       "<table border=\"1\" class=\"dataframe\">\n",
       "  <thead>\n",
       "    <tr style=\"text-align: right;\">\n",
       "      <th></th>\n",
       "      <th>Original</th>\n",
       "      <th>Stemmed</th>\n",
       "      <th>Lemmatized</th>\n",
       "    </tr>\n",
       "  </thead>\n",
       "  <tbody>\n",
       "    <tr>\n",
       "      <th>0</th>\n",
       "      <td>cats</td>\n",
       "      <td>cat</td>\n",
       "      <td>cat</td>\n",
       "    </tr>\n",
       "    <tr>\n",
       "      <th>1</th>\n",
       "      <td>corpora</td>\n",
       "      <td>corpora</td>\n",
       "      <td>corpus</td>\n",
       "    </tr>\n",
       "    <tr>\n",
       "      <th>2</th>\n",
       "      <td>mice</td>\n",
       "      <td>mice</td>\n",
       "      <td>mouse</td>\n",
       "    </tr>\n",
       "  </tbody>\n",
       "</table>\n",
       "</div>"
      ],
      "text/plain": [
       "  Original  Stemmed Lemmatized\n",
       "0     cats      cat        cat\n",
       "1  corpora  corpora     corpus\n",
       "2     mice     mice      mouse"
      ]
     },
     "execution_count": 28,
     "metadata": {},
     "output_type": "execute_result"
    }
   ],
   "source": [
    "lemmatized_tokens = [lemmatizer.lemmatize(t) for t in tokens]\n",
    "print(lemmatized_tokens)\n",
    "show_statistics(lemmatized_tokens)\n",
    "\n",
    "stemmed_tokens = [porter_stemmer.stem(t) for t in tokens]\n",
    "show_statistics(stemmed_tokens)\n",
    "\n",
    "\n",
    "import pandas as pd\n",
    "def compare_lemma_stemmer(tokens):\n",
    "    data = []\n",
    "    for token in tokens:\n",
    "        data.append([token,porter_stemmer.stem(token),lemmatizer.lemmatize(token)])\n",
    "    return pd.DataFrame(data,columns=[\"Original\",\"Stemmed\",\"Lemmatized\"])\n",
    "\n",
    "compare_lemma_stemmer(word_tokenize(\"cats corpora mice\")) \n"
   ]
  },
  {
   "cell_type": "markdown",
   "metadata": {},
   "source": [
    "To improve the performance of the `lemmatizer` it needs the **part of speech** of the token, by default it uses *noun*, so the lemmatizer only removed plurals"
   ]
  },
  {
   "cell_type": "markdown",
   "metadata": {},
   "source": [
    "# spaCy\n",
    "\n",
    "\n",
    "`spaCy` is a python library that provides several **language processing pipelines** that streamline and facilitate the process of language processing.\n",
    "\n",
    "Once a `language pipeline` is loaded  it will return a `Language` that is an object that contains all the components and data needed to process text.\n",
    "\n",
    "Those compoenents are:\n",
    "- Binary Weights of a model for the **part-of-speech tagger**, the **dependency parser** and the **named entity recognizer** to predict the annotations in the text\n",
    "- Lexical Entries in the vocabulary: words and their context independent attributes like shape and spelling\n",
    "- Data files for lemmatization  rules and look up tables\n",
    "- Word Vectors multidimensional meaning representations of the words that let you determine how similar words are\n",
    "\n",
    "Between other"
   ]
  },
  {
   "cell_type": "markdown",
   "metadata": {},
   "source": []
  },
  {
   "cell_type": "code",
   "execution_count": 29,
   "metadata": {},
   "outputs": [],
   "source": [
    "# pip install -U spacy\n",
    "# python -m spacy download en_core_web_sm\n",
    "import spacy\n",
    "from spacy import displacy\n",
    "\n",
    "nlp = spacy.load(\"en_core_web_sm\")"
   ]
  },
  {
   "cell_type": "markdown",
   "metadata": {},
   "source": [
    "### Processing With SpaCy\n",
    "\n",
    "Now we just need to call `nlp(text)` and it will return an object of the type `Document` that is the processed text. However it is worth mentioning that the `Document` still holds all the information about the text and it is possible to reconstruct it from the `Document`"
   ]
  },
  {
   "cell_type": "code",
   "execution_count": 30,
   "metadata": {},
   "outputs": [],
   "source": [
    "doc = nlp(\"Apple is looking at buying U.K. startup for $1 billion\")"
   ]
  },
  {
   "cell_type": "code",
   "execution_count": 31,
   "metadata": {},
   "outputs": [
    {
     "data": {
      "text/html": [
       "<div>\n",
       "<style scoped>\n",
       "    .dataframe tbody tr th:only-of-type {\n",
       "        vertical-align: middle;\n",
       "    }\n",
       "\n",
       "    .dataframe tbody tr th {\n",
       "        vertical-align: top;\n",
       "    }\n",
       "\n",
       "    .dataframe thead th {\n",
       "        text-align: right;\n",
       "    }\n",
       "</style>\n",
       "<table border=\"1\" class=\"dataframe\">\n",
       "  <thead>\n",
       "    <tr style=\"text-align: right;\">\n",
       "      <th></th>\n",
       "      <th>Text</th>\n",
       "      <th>POS</th>\n",
       "      <th>Dependency</th>\n",
       "    </tr>\n",
       "  </thead>\n",
       "  <tbody>\n",
       "    <tr>\n",
       "      <th>0</th>\n",
       "      <td>Apple</td>\n",
       "      <td>PROPN</td>\n",
       "      <td>nsubj</td>\n",
       "    </tr>\n",
       "    <tr>\n",
       "      <th>1</th>\n",
       "      <td>is</td>\n",
       "      <td>AUX</td>\n",
       "      <td>aux</td>\n",
       "    </tr>\n",
       "    <tr>\n",
       "      <th>2</th>\n",
       "      <td>looking</td>\n",
       "      <td>VERB</td>\n",
       "      <td>ROOT</td>\n",
       "    </tr>\n",
       "    <tr>\n",
       "      <th>3</th>\n",
       "      <td>at</td>\n",
       "      <td>ADP</td>\n",
       "      <td>prep</td>\n",
       "    </tr>\n",
       "    <tr>\n",
       "      <th>4</th>\n",
       "      <td>buying</td>\n",
       "      <td>VERB</td>\n",
       "      <td>pcomp</td>\n",
       "    </tr>\n",
       "    <tr>\n",
       "      <th>5</th>\n",
       "      <td>U.K.</td>\n",
       "      <td>PROPN</td>\n",
       "      <td>dobj</td>\n",
       "    </tr>\n",
       "    <tr>\n",
       "      <th>6</th>\n",
       "      <td>startup</td>\n",
       "      <td>NOUN</td>\n",
       "      <td>dep</td>\n",
       "    </tr>\n",
       "    <tr>\n",
       "      <th>7</th>\n",
       "      <td>for</td>\n",
       "      <td>ADP</td>\n",
       "      <td>prep</td>\n",
       "    </tr>\n",
       "    <tr>\n",
       "      <th>8</th>\n",
       "      <td>$</td>\n",
       "      <td>SYM</td>\n",
       "      <td>quantmod</td>\n",
       "    </tr>\n",
       "    <tr>\n",
       "      <th>9</th>\n",
       "      <td>1</td>\n",
       "      <td>NUM</td>\n",
       "      <td>compound</td>\n",
       "    </tr>\n",
       "    <tr>\n",
       "      <th>10</th>\n",
       "      <td>billion</td>\n",
       "      <td>NUM</td>\n",
       "      <td>pobj</td>\n",
       "    </tr>\n",
       "  </tbody>\n",
       "</table>\n",
       "</div>"
      ],
      "text/plain": [
       "       Text    POS Dependency\n",
       "0     Apple  PROPN      nsubj\n",
       "1        is    AUX        aux\n",
       "2   looking   VERB       ROOT\n",
       "3        at    ADP       prep\n",
       "4    buying   VERB      pcomp\n",
       "5      U.K.  PROPN       dobj\n",
       "6   startup   NOUN        dep\n",
       "7       for    ADP       prep\n",
       "8         $    SYM   quantmod\n",
       "9         1    NUM   compound\n",
       "10  billion    NUM       pobj"
      ]
     },
     "execution_count": 31,
     "metadata": {},
     "output_type": "execute_result"
    }
   ],
   "source": [
    "# Just for pretty printing\n",
    "import pandas as pd\n",
    "\n",
    "pd.DataFrame(([t.text,t.pos_,t.dep_] for t in doc),columns=['Text','POS','Dependency'])"
   ]
  },
  {
   "cell_type": "markdown",
   "metadata": {},
   "source": [
    "As we can see the ease of use of `spaCy` as just calling the **language processing pipeline** was easy and gives us lots of information\n",
    "\n",
    "### Spacy's Tokenizer\n",
    "\n",
    "It is **language dependent** as different languages have differences in how they should be tokenized.*Like the lack of spaces*\n",
    "\n",
    "![](https://spacy.io/images/tokenization.svg)\n",
    "\n",
    "Here we show the flow of the tokenizer, it first splits by spaces then tries to see if each \"word\" matches an exception rule and should be further devided.\n",
    "\n",
    "It also tries to split off infixes, like punctuation."
   ]
  },
  {
   "cell_type": "code",
   "execution_count": 32,
   "metadata": {},
   "outputs": [
    {
     "data": {
      "text/html": [
       "<div>\n",
       "<style scoped>\n",
       "    .dataframe tbody tr th:only-of-type {\n",
       "        vertical-align: middle;\n",
       "    }\n",
       "\n",
       "    .dataframe tbody tr th {\n",
       "        vertical-align: top;\n",
       "    }\n",
       "\n",
       "    .dataframe thead th {\n",
       "        text-align: right;\n",
       "    }\n",
       "</style>\n",
       "<table border=\"1\" class=\"dataframe\">\n",
       "  <thead>\n",
       "    <tr style=\"text-align: right;\">\n",
       "      <th></th>\n",
       "      <th>text</th>\n",
       "      <th>lemma</th>\n",
       "      <th>pos</th>\n",
       "      <th>tag</th>\n",
       "      <th>dep</th>\n",
       "      <th>shape</th>\n",
       "      <th>alpha</th>\n",
       "      <th>stop</th>\n",
       "    </tr>\n",
       "  </thead>\n",
       "  <tbody>\n",
       "    <tr>\n",
       "      <th>0</th>\n",
       "      <td>Apple</td>\n",
       "      <td>Apple</td>\n",
       "      <td>PROPN</td>\n",
       "      <td>NNP</td>\n",
       "      <td>nsubj</td>\n",
       "      <td>Xxxxx</td>\n",
       "      <td>True</td>\n",
       "      <td>False</td>\n",
       "    </tr>\n",
       "    <tr>\n",
       "      <th>1</th>\n",
       "      <td>is</td>\n",
       "      <td>be</td>\n",
       "      <td>AUX</td>\n",
       "      <td>VBZ</td>\n",
       "      <td>aux</td>\n",
       "      <td>xx</td>\n",
       "      <td>True</td>\n",
       "      <td>True</td>\n",
       "    </tr>\n",
       "    <tr>\n",
       "      <th>2</th>\n",
       "      <td>looking</td>\n",
       "      <td>look</td>\n",
       "      <td>VERB</td>\n",
       "      <td>VBG</td>\n",
       "      <td>ROOT</td>\n",
       "      <td>xxxx</td>\n",
       "      <td>True</td>\n",
       "      <td>False</td>\n",
       "    </tr>\n",
       "    <tr>\n",
       "      <th>3</th>\n",
       "      <td>at</td>\n",
       "      <td>at</td>\n",
       "      <td>ADP</td>\n",
       "      <td>IN</td>\n",
       "      <td>prep</td>\n",
       "      <td>xx</td>\n",
       "      <td>True</td>\n",
       "      <td>True</td>\n",
       "    </tr>\n",
       "    <tr>\n",
       "      <th>4</th>\n",
       "      <td>buying</td>\n",
       "      <td>buy</td>\n",
       "      <td>VERB</td>\n",
       "      <td>VBG</td>\n",
       "      <td>pcomp</td>\n",
       "      <td>xxxx</td>\n",
       "      <td>True</td>\n",
       "      <td>False</td>\n",
       "    </tr>\n",
       "    <tr>\n",
       "      <th>5</th>\n",
       "      <td>U.K.</td>\n",
       "      <td>U.K.</td>\n",
       "      <td>PROPN</td>\n",
       "      <td>NNP</td>\n",
       "      <td>dobj</td>\n",
       "      <td>X.X.</td>\n",
       "      <td>False</td>\n",
       "      <td>False</td>\n",
       "    </tr>\n",
       "    <tr>\n",
       "      <th>6</th>\n",
       "      <td>startup</td>\n",
       "      <td>startup</td>\n",
       "      <td>NOUN</td>\n",
       "      <td>NN</td>\n",
       "      <td>dep</td>\n",
       "      <td>xxxx</td>\n",
       "      <td>True</td>\n",
       "      <td>False</td>\n",
       "    </tr>\n",
       "    <tr>\n",
       "      <th>7</th>\n",
       "      <td>for</td>\n",
       "      <td>for</td>\n",
       "      <td>ADP</td>\n",
       "      <td>IN</td>\n",
       "      <td>prep</td>\n",
       "      <td>xxx</td>\n",
       "      <td>True</td>\n",
       "      <td>True</td>\n",
       "    </tr>\n",
       "    <tr>\n",
       "      <th>8</th>\n",
       "      <td>$</td>\n",
       "      <td>$</td>\n",
       "      <td>SYM</td>\n",
       "      <td>$</td>\n",
       "      <td>quantmod</td>\n",
       "      <td>$</td>\n",
       "      <td>False</td>\n",
       "      <td>False</td>\n",
       "    </tr>\n",
       "    <tr>\n",
       "      <th>9</th>\n",
       "      <td>1</td>\n",
       "      <td>1</td>\n",
       "      <td>NUM</td>\n",
       "      <td>CD</td>\n",
       "      <td>compound</td>\n",
       "      <td>d</td>\n",
       "      <td>False</td>\n",
       "      <td>False</td>\n",
       "    </tr>\n",
       "    <tr>\n",
       "      <th>10</th>\n",
       "      <td>billion</td>\n",
       "      <td>billion</td>\n",
       "      <td>NUM</td>\n",
       "      <td>CD</td>\n",
       "      <td>pobj</td>\n",
       "      <td>xxxx</td>\n",
       "      <td>True</td>\n",
       "      <td>False</td>\n",
       "    </tr>\n",
       "  </tbody>\n",
       "</table>\n",
       "</div>"
      ],
      "text/plain": [
       "       text    lemma    pos  tag       dep  shape  alpha   stop\n",
       "0     Apple    Apple  PROPN  NNP     nsubj  Xxxxx   True  False\n",
       "1        is       be    AUX  VBZ       aux     xx   True   True\n",
       "2   looking     look   VERB  VBG      ROOT   xxxx   True  False\n",
       "3        at       at    ADP   IN      prep     xx   True   True\n",
       "4    buying      buy   VERB  VBG     pcomp   xxxx   True  False\n",
       "5      U.K.     U.K.  PROPN  NNP      dobj   X.X.  False  False\n",
       "6   startup  startup   NOUN   NN       dep   xxxx   True  False\n",
       "7       for      for    ADP   IN      prep    xxx   True   True\n",
       "8         $        $    SYM    $  quantmod      $  False  False\n",
       "9         1        1    NUM   CD  compound      d  False  False\n",
       "10  billion  billion    NUM   CD      pobj   xxxx   True  False"
      ]
     },
     "execution_count": 32,
     "metadata": {},
     "output_type": "execute_result"
    }
   ],
   "source": [
    "columns_func = [\n",
    "    ['text', 'text'], ['lemma', 'lemma_'],\n",
    "    ['pos', 'pos_'], ['tag', 'tag_'],\n",
    "    ['dep', 'dep_'], ['shape', 'shape_'],\n",
    "    ['alpha', 'is_alpha'], ['stop', 'is_stop']\n",
    "]\n",
    "\n",
    "data = []\n",
    "for tok in doc:\n",
    "    row = []\n",
    "    for _, func in columns_func:\n",
    "        row.append(getattr(tok,func))\n",
    "    data.append(row)\n",
    "\n",
    "pd.DataFrame(data,columns=[i[0] for i in columns_func])"
   ]
  },
  {
   "cell_type": "code",
   "execution_count": 33,
   "metadata": {},
   "outputs": [
    {
     "data": {
      "text/html": [
       "<span class=\"tex2jax_ignore\"><svg xmlns=\"http://www.w3.org/2000/svg\" xmlns:xlink=\"http://www.w3.org/1999/xlink\" xml:lang=\"en\" id=\"a5af18c9ddf04da69a08020307bb63b8-0\" class=\"displacy\" width=\"1450\" height=\"399.5\" direction=\"ltr\" style=\"max-width: none; height: 399.5px; color: #000000; background: #ffffff; font-family: Arial; direction: ltr\">\n",
       "<text class=\"displacy-token\" fill=\"currentColor\" text-anchor=\"middle\" y=\"309.5\">\n",
       "    <tspan class=\"displacy-word\" fill=\"currentColor\" x=\"50\">I</tspan>\n",
       "    <tspan class=\"displacy-tag\" dy=\"2em\" fill=\"currentColor\" x=\"50\">PRON</tspan>\n",
       "</text>\n",
       "\n",
       "<text class=\"displacy-token\" fill=\"currentColor\" text-anchor=\"middle\" y=\"309.5\">\n",
       "    <tspan class=\"displacy-word\" fill=\"currentColor\" x=\"225\">ate</tspan>\n",
       "    <tspan class=\"displacy-tag\" dy=\"2em\" fill=\"currentColor\" x=\"225\">VERB</tspan>\n",
       "</text>\n",
       "\n",
       "<text class=\"displacy-token\" fill=\"currentColor\" text-anchor=\"middle\" y=\"309.5\">\n",
       "    <tspan class=\"displacy-word\" fill=\"currentColor\" x=\"400\">fish</tspan>\n",
       "    <tspan class=\"displacy-tag\" dy=\"2em\" fill=\"currentColor\" x=\"400\">NOUN</tspan>\n",
       "</text>\n",
       "\n",
       "<text class=\"displacy-token\" fill=\"currentColor\" text-anchor=\"middle\" y=\"309.5\">\n",
       "    <tspan class=\"displacy-word\" fill=\"currentColor\" x=\"575\">and</tspan>\n",
       "    <tspan class=\"displacy-tag\" dy=\"2em\" fill=\"currentColor\" x=\"575\">CCONJ</tspan>\n",
       "</text>\n",
       "\n",
       "<text class=\"displacy-token\" fill=\"currentColor\" text-anchor=\"middle\" y=\"309.5\">\n",
       "    <tspan class=\"displacy-word\" fill=\"currentColor\" x=\"750\">chips,</tspan>\n",
       "    <tspan class=\"displacy-tag\" dy=\"2em\" fill=\"currentColor\" x=\"750\">NOUN</tspan>\n",
       "</text>\n",
       "\n",
       "<text class=\"displacy-token\" fill=\"currentColor\" text-anchor=\"middle\" y=\"309.5\">\n",
       "    <tspan class=\"displacy-word\" fill=\"currentColor\" x=\"925\">in</tspan>\n",
       "    <tspan class=\"displacy-tag\" dy=\"2em\" fill=\"currentColor\" x=\"925\">ADP</tspan>\n",
       "</text>\n",
       "\n",
       "<text class=\"displacy-token\" fill=\"currentColor\" text-anchor=\"middle\" y=\"309.5\">\n",
       "    <tspan class=\"displacy-word\" fill=\"currentColor\" x=\"1100\">the</tspan>\n",
       "    <tspan class=\"displacy-tag\" dy=\"2em\" fill=\"currentColor\" x=\"1100\">DET</tspan>\n",
       "</text>\n",
       "\n",
       "<text class=\"displacy-token\" fill=\"currentColor\" text-anchor=\"middle\" y=\"309.5\">\n",
       "    <tspan class=\"displacy-word\" fill=\"currentColor\" x=\"1275\">U.K.</tspan>\n",
       "    <tspan class=\"displacy-tag\" dy=\"2em\" fill=\"currentColor\" x=\"1275\">PROPN</tspan>\n",
       "</text>\n",
       "\n",
       "<g class=\"displacy-arrow\">\n",
       "    <path class=\"displacy-arc\" id=\"arrow-a5af18c9ddf04da69a08020307bb63b8-0-0\" stroke-width=\"2px\" d=\"M70,264.5 C70,177.0 215.0,177.0 215.0,264.5\" fill=\"none\" stroke=\"currentColor\"/>\n",
       "    <text dy=\"1.25em\" style=\"font-size: 0.8em; letter-spacing: 1px\">\n",
       "        <textPath xlink:href=\"#arrow-a5af18c9ddf04da69a08020307bb63b8-0-0\" class=\"displacy-label\" startOffset=\"50%\" side=\"left\" fill=\"currentColor\" text-anchor=\"middle\">nsubj</textPath>\n",
       "    </text>\n",
       "    <path class=\"displacy-arrowhead\" d=\"M70,266.5 L62,254.5 78,254.5\" fill=\"currentColor\"/>\n",
       "</g>\n",
       "\n",
       "<g class=\"displacy-arrow\">\n",
       "    <path class=\"displacy-arc\" id=\"arrow-a5af18c9ddf04da69a08020307bb63b8-0-1\" stroke-width=\"2px\" d=\"M245,264.5 C245,177.0 390.0,177.0 390.0,264.5\" fill=\"none\" stroke=\"currentColor\"/>\n",
       "    <text dy=\"1.25em\" style=\"font-size: 0.8em; letter-spacing: 1px\">\n",
       "        <textPath xlink:href=\"#arrow-a5af18c9ddf04da69a08020307bb63b8-0-1\" class=\"displacy-label\" startOffset=\"50%\" side=\"left\" fill=\"currentColor\" text-anchor=\"middle\">dobj</textPath>\n",
       "    </text>\n",
       "    <path class=\"displacy-arrowhead\" d=\"M390.0,266.5 L398.0,254.5 382.0,254.5\" fill=\"currentColor\"/>\n",
       "</g>\n",
       "\n",
       "<g class=\"displacy-arrow\">\n",
       "    <path class=\"displacy-arc\" id=\"arrow-a5af18c9ddf04da69a08020307bb63b8-0-2\" stroke-width=\"2px\" d=\"M420,264.5 C420,177.0 565.0,177.0 565.0,264.5\" fill=\"none\" stroke=\"currentColor\"/>\n",
       "    <text dy=\"1.25em\" style=\"font-size: 0.8em; letter-spacing: 1px\">\n",
       "        <textPath xlink:href=\"#arrow-a5af18c9ddf04da69a08020307bb63b8-0-2\" class=\"displacy-label\" startOffset=\"50%\" side=\"left\" fill=\"currentColor\" text-anchor=\"middle\">cc</textPath>\n",
       "    </text>\n",
       "    <path class=\"displacy-arrowhead\" d=\"M565.0,266.5 L573.0,254.5 557.0,254.5\" fill=\"currentColor\"/>\n",
       "</g>\n",
       "\n",
       "<g class=\"displacy-arrow\">\n",
       "    <path class=\"displacy-arc\" id=\"arrow-a5af18c9ddf04da69a08020307bb63b8-0-3\" stroke-width=\"2px\" d=\"M420,264.5 C420,89.5 745.0,89.5 745.0,264.5\" fill=\"none\" stroke=\"currentColor\"/>\n",
       "    <text dy=\"1.25em\" style=\"font-size: 0.8em; letter-spacing: 1px\">\n",
       "        <textPath xlink:href=\"#arrow-a5af18c9ddf04da69a08020307bb63b8-0-3\" class=\"displacy-label\" startOffset=\"50%\" side=\"left\" fill=\"currentColor\" text-anchor=\"middle\">conj</textPath>\n",
       "    </text>\n",
       "    <path class=\"displacy-arrowhead\" d=\"M745.0,266.5 L753.0,254.5 737.0,254.5\" fill=\"currentColor\"/>\n",
       "</g>\n",
       "\n",
       "<g class=\"displacy-arrow\">\n",
       "    <path class=\"displacy-arc\" id=\"arrow-a5af18c9ddf04da69a08020307bb63b8-0-4\" stroke-width=\"2px\" d=\"M245,264.5 C245,2.0 925.0,2.0 925.0,264.5\" fill=\"none\" stroke=\"currentColor\"/>\n",
       "    <text dy=\"1.25em\" style=\"font-size: 0.8em; letter-spacing: 1px\">\n",
       "        <textPath xlink:href=\"#arrow-a5af18c9ddf04da69a08020307bb63b8-0-4\" class=\"displacy-label\" startOffset=\"50%\" side=\"left\" fill=\"currentColor\" text-anchor=\"middle\">prep</textPath>\n",
       "    </text>\n",
       "    <path class=\"displacy-arrowhead\" d=\"M925.0,266.5 L933.0,254.5 917.0,254.5\" fill=\"currentColor\"/>\n",
       "</g>\n",
       "\n",
       "<g class=\"displacy-arrow\">\n",
       "    <path class=\"displacy-arc\" id=\"arrow-a5af18c9ddf04da69a08020307bb63b8-0-5\" stroke-width=\"2px\" d=\"M1120,264.5 C1120,177.0 1265.0,177.0 1265.0,264.5\" fill=\"none\" stroke=\"currentColor\"/>\n",
       "    <text dy=\"1.25em\" style=\"font-size: 0.8em; letter-spacing: 1px\">\n",
       "        <textPath xlink:href=\"#arrow-a5af18c9ddf04da69a08020307bb63b8-0-5\" class=\"displacy-label\" startOffset=\"50%\" side=\"left\" fill=\"currentColor\" text-anchor=\"middle\">det</textPath>\n",
       "    </text>\n",
       "    <path class=\"displacy-arrowhead\" d=\"M1120,266.5 L1112,254.5 1128,254.5\" fill=\"currentColor\"/>\n",
       "</g>\n",
       "\n",
       "<g class=\"displacy-arrow\">\n",
       "    <path class=\"displacy-arc\" id=\"arrow-a5af18c9ddf04da69a08020307bb63b8-0-6\" stroke-width=\"2px\" d=\"M945,264.5 C945,89.5 1270.0,89.5 1270.0,264.5\" fill=\"none\" stroke=\"currentColor\"/>\n",
       "    <text dy=\"1.25em\" style=\"font-size: 0.8em; letter-spacing: 1px\">\n",
       "        <textPath xlink:href=\"#arrow-a5af18c9ddf04da69a08020307bb63b8-0-6\" class=\"displacy-label\" startOffset=\"50%\" side=\"left\" fill=\"currentColor\" text-anchor=\"middle\">pobj</textPath>\n",
       "    </text>\n",
       "    <path class=\"displacy-arrowhead\" d=\"M1270.0,266.5 L1278.0,254.5 1262.0,254.5\" fill=\"currentColor\"/>\n",
       "</g>\n",
       "</svg></span>"
      ],
      "text/plain": [
       "<IPython.core.display.HTML object>"
      ]
     },
     "metadata": {},
     "output_type": "display_data"
    }
   ],
   "source": [
    "doc = nlp(\"I ate fish and chips, in the U.K.\")\n",
    "displacy.render(doc, style=\"dep\")"
   ]
  },
  {
   "cell_type": "code",
   "execution_count": 34,
   "metadata": {},
   "outputs": [
    {
     "data": {
      "text/plain": [
       "'adjective'"
      ]
     },
     "execution_count": 34,
     "metadata": {},
     "output_type": "execute_result"
    }
   ],
   "source": [
    "spacy.explain(\"ADJ\")"
   ]
  },
  {
   "cell_type": "code",
   "execution_count": 38,
   "metadata": {},
   "outputs": [
    {
     "data": {
      "text/html": [
       "<div>\n",
       "<style scoped>\n",
       "    .dataframe tbody tr th:only-of-type {\n",
       "        vertical-align: middle;\n",
       "    }\n",
       "\n",
       "    .dataframe tbody tr th {\n",
       "        vertical-align: top;\n",
       "    }\n",
       "\n",
       "    .dataframe thead th {\n",
       "        text-align: right;\n",
       "    }\n",
       "</style>\n",
       "<table border=\"1\" class=\"dataframe\">\n",
       "  <thead>\n",
       "    <tr style=\"text-align: right;\">\n",
       "      <th></th>\n",
       "      <th>Text</th>\n",
       "      <th>Start</th>\n",
       "      <th>End</th>\n",
       "      <th>Label</th>\n",
       "      <th>Description</th>\n",
       "    </tr>\n",
       "  </thead>\n",
       "  <tbody>\n",
       "    <tr>\n",
       "      <th>0</th>\n",
       "      <td>Apple</td>\n",
       "      <td>0</td>\n",
       "      <td>5</td>\n",
       "      <td>ORG</td>\n",
       "      <td>Companies, agencies, institutions, etc.</td>\n",
       "    </tr>\n",
       "    <tr>\n",
       "      <th>1</th>\n",
       "      <td>U.K.</td>\n",
       "      <td>27</td>\n",
       "      <td>31</td>\n",
       "      <td>GPE</td>\n",
       "      <td>Countries, cities, states</td>\n",
       "    </tr>\n",
       "    <tr>\n",
       "      <th>2</th>\n",
       "      <td>$1 billion</td>\n",
       "      <td>44</td>\n",
       "      <td>54</td>\n",
       "      <td>MONEY</td>\n",
       "      <td>Monetary values, including unit</td>\n",
       "    </tr>\n",
       "  </tbody>\n",
       "</table>\n",
       "</div>"
      ],
      "text/plain": [
       "         Text  Start  End  Label                              Description\n",
       "0       Apple      0    5    ORG  Companies, agencies, institutions, etc.\n",
       "1        U.K.     27   31    GPE                Countries, cities, states\n",
       "2  $1 billion     44   54  MONEY          Monetary values, including unit"
      ]
     },
     "execution_count": 38,
     "metadata": {},
     "output_type": "execute_result"
    }
   ],
   "source": [
    "doc = nlp(\"Apple is looking at buying U.K. startup for $1 billion\")\n",
    "\n",
    "data = []\n",
    "for ent in doc.ents:\n",
    "    data.append([ent.text, ent.start_char, ent.end_char, ent.label_,spacy.explain(ent.label_)])\n",
    "\n",
    "pd.DataFrame(data,columns=[\"Text\",\"Start\",\"End\",\"Label\",\"Description\"])\n"
   ]
  },
  {
   "cell_type": "code",
   "execution_count": 41,
   "metadata": {},
   "outputs": [
    {
     "data": {
      "text/html": [
       "<span class=\"tex2jax_ignore\"><div class=\"entities\" style=\"line-height: 2.5; direction: ltr\">\n",
       "<mark class=\"entity\" style=\"background: #7aecec; padding: 0.45em 0.6em; margin: 0 0.25em; line-height: 1; border-radius: 0.35em;\">\n",
       "    Apple\n",
       "    <span style=\"font-size: 0.8em; font-weight: bold; line-height: 1; border-radius: 0.35em; vertical-align: middle; margin-left: 0.5rem\">ORG</span>\n",
       "</mark>\n",
       " is looking at buying \n",
       "<mark class=\"entity\" style=\"background: #feca74; padding: 0.45em 0.6em; margin: 0 0.25em; line-height: 1; border-radius: 0.35em;\">\n",
       "    U.K.\n",
       "    <span style=\"font-size: 0.8em; font-weight: bold; line-height: 1; border-radius: 0.35em; vertical-align: middle; margin-left: 0.5rem\">GPE</span>\n",
       "</mark>\n",
       " startup for \n",
       "<mark class=\"entity\" style=\"background: #e4e7d2; padding: 0.45em 0.6em; margin: 0 0.25em; line-height: 1; border-radius: 0.35em;\">\n",
       "    $1 billion\n",
       "    <span style=\"font-size: 0.8em; font-weight: bold; line-height: 1; border-radius: 0.35em; vertical-align: middle; margin-left: 0.5rem\">MONEY</span>\n",
       "</mark>\n",
       "</div></span>"
      ],
      "text/plain": [
       "<IPython.core.display.HTML object>"
      ]
     },
     "metadata": {},
     "output_type": "display_data"
    }
   ],
   "source": [
    "displacy.render(doc,style=\"ent\")"
   ]
  },
  {
   "cell_type": "markdown",
   "metadata": {},
   "source": [
    "## Word Vectors and similarity\n",
    "\n",
    "**Similarity** is determined by comparing *word vectors* or *word embeddings*, these are multi dimensional representations of a word.\n",
    "\n",
    "Spacy pipelines that end in `sm` don't ship with *word vectors*, to get accurate similarity results a pipeline that ends in `lg` is required.\n",
    "\n",
    "It is important to note that word similarity depends on the application needs as the sentence `I like pasta` and `I like pizza` are both similar \n",
    "because they both talk about food preferences but if our application is about differences in food, pizza and pasta are very different.\n",
    "\n",
    "`Doc` and `Span` vector values are the **average** of its constituints. Meaning that ordering between words is lost."
   ]
  },
  {
   "cell_type": "code",
   "execution_count": 42,
   "metadata": {},
   "outputs": [
    {
     "name": "stdout",
     "output_type": "stream",
     "text": [
      "I like salty fries and hamburgers. <-> Fast food tastes very good. 0.691649353055761\n"
     ]
    }
   ],
   "source": [
    "import spacy\n",
    "\n",
    "# python3 -m spacy download en_core_web_md\n",
    "nlp = spacy.load(\"en_core_web_md\")  # make sure to use larger package!\n",
    "doc1 = nlp(\"I like salty fries and hamburgers.\")\n",
    "doc2 = nlp(\"Fast food tastes very good.\")\n",
    "\n",
    "# Similarity of two documents\n",
    "print(doc1, \"<->\", doc2, doc1.similarity(doc2))"
   ]
  },
  {
   "cell_type": "code",
   "execution_count": 43,
   "metadata": {},
   "outputs": [
    {
     "name": "stdout",
     "output_type": "stream",
     "text": [
      "salty fries <-> hamburgers 0.6938489675521851\n"
     ]
    }
   ],
   "source": [
    "# Similarity of tokens and spans\n",
    "french_fries = doc1[2:4]\n",
    "burgers = doc1[5]\n",
    "print(french_fries, \"<->\", burgers, french_fries.similarity(burgers))"
   ]
  },
  {
   "cell_type": "code",
   "execution_count": 47,
   "metadata": {},
   "outputs": [
    {
     "name": "stdout",
     "output_type": "stream",
     "text": [
      "sweet <-> salt 0.3181479327298317\n"
     ]
    }
   ],
   "source": [
    "good = nlp('sweet')\n",
    "bad = nlp('salt')\n",
    "print(good,\"<->\",bad,good.similarity(bad))"
   ]
  },
  {
   "cell_type": "markdown",
   "metadata": {},
   "source": [
    "![Pipeline](https://spacy.io/images/pipeline.svg)\n",
    "\n",
    "![Architecture](https://spacy.io/images/architecture.svg)"
   ]
  }
 ],
 "metadata": {
  "kernelspec": {
   "display_name": ".venv",
   "language": "python",
   "name": "python3"
  },
  "language_info": {
   "codemirror_mode": {
    "name": "ipython",
    "version": 3
   },
   "file_extension": ".py",
   "mimetype": "text/x-python",
   "name": "python",
   "nbconvert_exporter": "python",
   "pygments_lexer": "ipython3",
   "version": "3.10.12"
  }
 },
 "nbformat": 4,
 "nbformat_minor": 2
}
